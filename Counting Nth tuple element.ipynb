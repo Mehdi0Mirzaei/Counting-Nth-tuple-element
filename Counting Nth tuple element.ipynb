{
 "cells": [
  {
   "cell_type": "code",
   "execution_count": 11,
   "id": "a254a5ad",
   "metadata": {},
   "outputs": [
    {
     "name": "stdout",
     "output_type": "stream",
     "text": [
      "The original list : [('gfg', 0), ('is', 1), ('best', 2), ('gfg', 2), ('is', 0), ('for', 1), ('geeks', 2)]\n",
      "The grouped Nth element frequency is : {0: 2, 1: 2, 2: 3}\n"
     ]
    }
   ],
   "source": [
    "# initialize list\n",
    "test_list = [('gfg', 0), ('is', 1), ('best', 2),\n",
    "             ('gfg', 2), ('is', 0), ('for', 1),\n",
    "             ('geeks', 2)]\n",
    " \n",
    "# printing original list\n",
    "print(\"The original list : \" + str(test_list))\n",
    " \n",
    "# initialize N\n",
    "N = 1\n",
    " \n",
    "# Counting Nth tuple element\n",
    "res = dict()\n",
    "x = []\n",
    "for i in test_list:\n",
    "    x.append(i[N])\n",
    "y = list(set(x))\n",
    "for i in y:\n",
    "    res[i] = x.count(i)\n",
    " \n",
    "# printing result\n",
    "print(\"The grouped Nth element frequency is : \" + str(res))"
   ]
  },
  {
   "cell_type": "code",
   "execution_count": null,
   "id": "955b75c1",
   "metadata": {},
   "outputs": [],
   "source": []
  }
 ],
 "metadata": {
  "kernelspec": {
   "display_name": "Python 3 (ipykernel)",
   "language": "python",
   "name": "python3"
  },
  "language_info": {
   "codemirror_mode": {
    "name": "ipython",
    "version": 3
   },
   "file_extension": ".py",
   "mimetype": "text/x-python",
   "name": "python",
   "nbconvert_exporter": "python",
   "pygments_lexer": "ipython3",
   "version": "3.9.13"
  }
 },
 "nbformat": 4,
 "nbformat_minor": 5
}
